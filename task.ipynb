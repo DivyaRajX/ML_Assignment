{
 "cells": [
  {
   "cell_type": "code",
   "execution_count": 2,
   "id": "6f877589",
   "metadata": {},
   "outputs": [],
   "source": [
    "import numpy as np"
   ]
  },
  {
   "cell_type": "markdown",
   "id": "53acc2ca",
   "metadata": {},
   "source": [
    "<h1> Task 1</h1>"
   ]
  },
  {
   "cell_type": "code",
   "execution_count": 3,
   "id": "e2c8f499",
   "metadata": {},
   "outputs": [
    {
     "name": "stdout",
     "output_type": "stream",
     "text": [
      "[ 1  2  3  4  5  6  7  8  9 10]\n",
      "10\n",
      "(10,)\n",
      "int64\n"
     ]
    }
   ],
   "source": [
    "# creating the 1 D numy array\n",
    "\n",
    "arr = np.array([i for i in range(1,11)])\n",
    "print(arr)\n",
    "print(arr.size)\n",
    "print(arr.shape)\n",
    "print(arr.dtype)"
   ]
  },
  {
   "cell_type": "code",
   "execution_count": 4,
   "id": "372a6834",
   "metadata": {},
   "outputs": [
    {
     "name": "stdout",
     "output_type": "stream",
     "text": [
      "[[1 2 3]\n",
      " [4 5 6]\n",
      " [7 8 9]]\n",
      "9\n",
      "(3, 3)\n",
      "int64\n"
     ]
    }
   ],
   "source": [
    "arr1 = np.arange(1,10).reshape(3,3)\n",
    "print(arr1)\n",
    "print(arr1.size)\n",
    "print(arr1.shape)\n",
    "print(arr1.dtype)"
   ]
  },
  {
   "cell_type": "code",
   "execution_count": 5,
   "id": "a3fce76e",
   "metadata": {},
   "outputs": [
    {
     "name": "stdout",
     "output_type": "stream",
     "text": [
      "[[[0.13900372 0.61981002 0.28698632]\n",
      "  [0.04511773 0.99359393 0.84975961]\n",
      "  [0.98492385 0.08605917 0.25528649]\n",
      "  [0.90165484 0.85449008 0.57589053]\n",
      "  [0.76410364 0.89582003 0.31042755]]\n",
      "\n",
      " [[0.4108117  0.25807912 0.26868197]\n",
      "  [0.46686171 0.55640715 0.18319498]\n",
      "  [0.54700423 0.63951155 0.18459466]\n",
      "  [0.44760932 0.0311504  0.26174417]\n",
      "  [0.95116145 0.65476076 0.1976794 ]]\n",
      "\n",
      " [[0.00335632 0.74129594 0.47594705]\n",
      "  [0.42850203 0.74726928 0.0234801 ]\n",
      "  [0.15273858 0.16804689 0.73720062]\n",
      "  [0.94934823 0.5177479  0.20629897]\n",
      "  [0.70746081 0.95490273 0.01074083]]]\n",
      "45\n",
      "(3, 5, 3)\n",
      "float64\n"
     ]
    }
   ],
   "source": [
    "arr2 = np.random.rand(3, 5, 3)\n",
    "print(arr2)\n",
    "print(arr2.size)\n",
    "print(arr2.shape)\n",
    "print(arr2.dtype)"
   ]
  },
  {
   "cell_type": "markdown",
   "id": "6797fb55",
   "metadata": {},
   "source": [
    "<h1> Task 2</h1>"
   ]
  },
  {
   "cell_type": "code",
   "execution_count": 6,
   "id": "47470c9e",
   "metadata": {},
   "outputs": [
    {
     "data": {
      "text/plain": [
       "array([10, 20, 30, 40, 50, 60, 70, 80, 90])"
      ]
     },
     "execution_count": 6,
     "metadata": {},
     "output_type": "execute_result"
    }
   ],
   "source": [
    "data = [10, 20, 30, 40, 50, 60, 70, 80, 90]\n",
    "arr = np.array(data)\n",
    "arr"
   ]
  },
  {
   "cell_type": "code",
   "execution_count": 7,
   "id": "4da36a61",
   "metadata": {},
   "outputs": [
    {
     "name": "stdout",
     "output_type": "stream",
     "text": [
      "10\n",
      "20\n",
      "30\n"
     ]
    }
   ],
   "source": [
    "for i in range(3):\n",
    "    print(arr[i])"
   ]
  },
  {
   "cell_type": "code",
   "execution_count": null,
   "id": "e3dc7d00",
   "metadata": {},
   "outputs": [
    {
     "name": "stdout",
     "output_type": "stream",
     "text": [
      "10 30 50 70 90 "
     ]
    }
   ],
   "source": [
    "# Alternate element of an array\n",
    "\n",
    "for i in range(0,arr.size,2):\n",
    "    print(arr[i], end=\" \")\n"
   ]
  },
  {
   "cell_type": "code",
   "execution_count": 15,
   "id": "dbaf653f",
   "metadata": {},
   "outputs": [
    {
     "data": {
      "text/plain": [
       "array([90, 80, 70, 60, 50, 40, 30, 20, 10])"
      ]
     },
     "execution_count": 15,
     "metadata": {},
     "output_type": "execute_result"
    }
   ],
   "source": [
    "# reverse the array\n",
    "\n",
    "arr1 = arr[::-1]\n",
    "arr1"
   ]
  },
  {
   "cell_type": "markdown",
   "id": "28e93507",
   "metadata": {},
   "source": [
    "<h1> Task 3 : Mathematical Operation </h1>"
   ]
  },
  {
   "cell_type": "code",
   "execution_count": 17,
   "id": "9998e216",
   "metadata": {},
   "outputs": [
    {
     "data": {
      "text/plain": [
       "array([[0.31827107, 0.39128289, 0.87004917, 0.35541514, 0.28202586,\n",
       "        0.79386902, 0.29070647, 0.69625214, 0.48500234, 0.30685273,\n",
       "        0.29558284, 0.20048027, 0.28405156, 0.40003811, 0.89166326,\n",
       "        0.20871939, 0.61985241, 0.01734939, 0.00206305, 0.43052061]])"
      ]
     },
     "execution_count": 17,
     "metadata": {},
     "output_type": "execute_result"
    }
   ],
   "source": [
    "arr = np.random.rand(1,20)\n",
    "arr"
   ]
  }
 ],
 "metadata": {
  "kernelspec": {
   "display_name": "Python 3",
   "language": "python",
   "name": "python3"
  },
  "language_info": {
   "codemirror_mode": {
    "name": "ipython",
    "version": 3
   },
   "file_extension": ".py",
   "mimetype": "text/x-python",
   "name": "python",
   "nbconvert_exporter": "python",
   "pygments_lexer": "ipython3",
   "version": "3.12.10"
  }
 },
 "nbformat": 4,
 "nbformat_minor": 5
}
