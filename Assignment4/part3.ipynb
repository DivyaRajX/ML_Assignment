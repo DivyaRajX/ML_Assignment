{
 "cells": [
  {
   "cell_type": "code",
   "execution_count": null,
   "id": "dd0b8bb3",
   "metadata": {},
   "outputs": [],
   "source": [
    "'''\n",
    " Random Forest vs Decision Tree\n",
    "● Train a RandomForestClassifier on the same dataset used for Task 5.\n",
    "● Compare accuracy, precision, and recall with the standalone decision tree.\n",
    "● Plot feature importances.\n",
    "\n",
    "'''\n",
    "\n"
   ]
  },
  {
   "cell_type": "code",
   "execution_count": null,
   "id": "b7099dac",
   "metadata": {},
   "outputs": [],
   "source": []
  },
  {
   "cell_type": "code",
   "execution_count": null,
   "id": "71a83c57",
   "metadata": {},
   "outputs": [],
   "source": []
  },
  {
   "cell_type": "code",
   "execution_count": null,
   "id": "e0989c34",
   "metadata": {},
   "outputs": [],
   "source": []
  },
  {
   "cell_type": "code",
   "execution_count": null,
   "id": "ab89f958",
   "metadata": {},
   "outputs": [],
   "source": []
  }
 ],
 "metadata": {
  "language_info": {
   "name": "python"
  }
 },
 "nbformat": 4,
 "nbformat_minor": 5
}
